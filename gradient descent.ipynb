{
 "cells": [
  {
   "cell_type": "code",
   "execution_count": 1,
   "metadata": {},
   "outputs": [],
   "source": [
    "import numpy as np\n",
    "d = np.array([[1,2,10],[12,3,2]])"
   ]
  },
  {
   "cell_type": "code",
   "execution_count": 2,
   "metadata": {},
   "outputs": [
    {
     "data": {
      "text/plain": [
       "array([[ 1,  2, 10],\n",
       "       [12,  3,  2]])"
      ]
     },
     "execution_count": 2,
     "metadata": {},
     "output_type": "execute_result"
    }
   ],
   "source": [
    "d"
   ]
  },
  {
   "cell_type": "code",
   "execution_count": 3,
   "metadata": {},
   "outputs": [
    {
     "name": "stdout",
     "output_type": "stream",
     "text": [
      "[ 1  2 10]\n",
      "[12  3  2]\n"
     ]
    }
   ],
   "source": [
    "for i in d:\n",
    "    print(i)"
   ]
  },
  {
   "cell_type": "code",
   "execution_count": 4,
   "metadata": {},
   "outputs": [
    {
     "data": {
      "text/plain": [
       "array([ 1,  4, 12])"
      ]
     },
     "execution_count": 4,
     "metadata": {},
     "output_type": "execute_result"
    }
   ],
   "source": [
    "np.array([1,2,3])*np.array([1,2,4])"
   ]
  },
  {
   "cell_type": "code",
   "execution_count": 5,
   "metadata": {},
   "outputs": [],
   "source": [
    "def inputs(data):\n",
    "    return np.array(data)"
   ]
  },
  {
   "cell_type": "code",
   "execution_count": 6,
   "metadata": {},
   "outputs": [
    {
     "data": {
      "text/plain": [
       "array([[ 1,  2, 10],\n",
       "       [12,  3,  2]])"
      ]
     },
     "execution_count": 6,
     "metadata": {},
     "output_type": "execute_result"
    }
   ],
   "source": [
    "inputs(d)"
   ]
  },
  {
   "cell_type": "code",
   "execution_count": 7,
   "metadata": {},
   "outputs": [],
   "source": [
    "hidden_layers = []\n",
    "def hidden_layer(number_of_hidden_layer,number_of_neurons):\n",
    "    for i in range(number_of_hidden_layer):\n",
    "#         hidden_layers.append(np.zeros(inputs(,number_of_neurons[i]))\n",
    "        hidden_layers.append(np.zeros(number_of_neurons[i]))\n",
    "    return hidden_layers\n",
    "hidden_layers = []"
   ]
  },
  {
   "cell_type": "code",
   "execution_count": 8,
   "metadata": {},
   "outputs": [],
   "source": [
    "# hidden_layer(2,[3,2])"
   ]
  },
  {
   "cell_type": "code",
   "execution_count": 9,
   "metadata": {},
   "outputs": [],
   "source": [
    "# hidden_layers"
   ]
  },
  {
   "cell_type": "code",
   "execution_count": 10,
   "metadata": {},
   "outputs": [],
   "source": [
    "def output(shape):\n",
    "    return np.zeros(shape)"
   ]
  },
  {
   "cell_type": "code",
   "execution_count": 11,
   "metadata": {},
   "outputs": [],
   "source": [
    "# output(10)"
   ]
  },
  {
   "cell_type": "code",
   "execution_count": 12,
   "metadata": {},
   "outputs": [],
   "source": [
    "weight = []\n",
    "def graph(data,number_of_hidden_layer,number_of_neurons,shape):\n",
    "    lists = np.array([inputs(data),hidden_layer(number_of_hidden_layer,number_of_neurons),output(shape)])\n",
    "    weight.append(np.zeros([lists[0].shape[0],lists[1][0].shape[0]]))\n",
    "    for j in range(len(lists[1])-1):\n",
    "#         print(lists[1][j].shape[0],lists[1][j+1].shape[0])\n",
    "        weight.append(np.zeros([lists[1][j+1].shape[0],lists[1][j].shape[0]]))\n",
    "    weight.append(np.zeros([lists[-1].shape[0],lists[1][-1].shape[0]]))\n",
    "    print(weight)\n",
    "    hidden_layers = []\n",
    "    return lists,weight"
   ]
  },
  {
   "cell_type": "code",
   "execution_count": 13,
   "metadata": {},
   "outputs": [],
   "source": [
    "# print(graph([1,2,4],2,[3,2],10))"
   ]
  },
  {
   "cell_type": "code",
   "execution_count": 14,
   "metadata": {},
   "outputs": [],
   "source": [
    "def sigmoid(z):\n",
    "    return 1/(1+np.exp(-z))"
   ]
  },
  {
   "cell_type": "code",
   "execution_count": 15,
   "metadata": {},
   "outputs": [
    {
     "name": "stdout",
     "output_type": "stream",
     "text": [
      "[array([[0., 0., 0.],\n",
      "       [0., 0., 0.],\n",
      "       [0., 0., 0.]]), array([[0., 0., 0.],\n",
      "       [0., 0., 0.]]), array([[0., 0.],\n",
      "       [0., 0.],\n",
      "       [0., 0.],\n",
      "       [0., 0.],\n",
      "       [0., 0.],\n",
      "       [0., 0.],\n",
      "       [0., 0.],\n",
      "       [0., 0.],\n",
      "       [0., 0.],\n",
      "       [0., 0.]])]\n"
     ]
    }
   ],
   "source": [
    "lists,weight = graph([1,2,4],2,[3,2],10)"
   ]
  },
  {
   "cell_type": "code",
   "execution_count": 16,
   "metadata": {
    "code_folding": []
   },
   "outputs": [
    {
     "name": "stdout",
     "output_type": "stream",
     "text": [
      "[array([1, 2, 4]) list([array([0., 0., 0.]), array([0., 0.])])\n",
      " array([0., 0., 0., 0., 0., 0., 0., 0., 0., 0.])]\n"
     ]
    }
   ],
   "source": [
    "\n",
    "\n",
    "def forward_propagation():\n",
    "    z= []\n",
    "    index = 0\n",
    "    for i in weight[0]:\n",
    "#         print(i,lists[0])\n",
    "        z.append(np.array(i*lists[0]))\n",
    "#     print(z)\n",
    "    for i in range(len(lists[1][0])):\n",
    "#         print(i)\n",
    "        lists[1][0][i] = sigmoid(sum(z[i]))\n",
    "#     print(lists)\n",
    "    for k in range(1,len(lists[1])):\n",
    "        z = []\n",
    "        for hidden_layer in weight[k]:\n",
    "            \n",
    "#             print(hidden_layer,lists[1][index])\n",
    "            z.append(np.array(hidden_layer*lists[1][index]))\n",
    "#         print(z)\n",
    "        print(z)\n",
    "        for i in range(len(lists[1][k])):\n",
    "#             print(len(lists[1][k]))\n",
    "#             print(i)\n",
    "#             print(lists[1][index])\n",
    "#             print(z[1])\n",
    "#             print(sum(z[i]))\n",
    "#             print(lists[1][k][i])\n",
    "#             print(len(lists[1][k]))\n",
    "#             print(lists[1][k][0],'///////')\n",
    "#             print(sigmoid(sum(z[i])))\n",
    "            lists[1][k][i] = sigmoid(sum(z[i]))\n",
    "        index = index + 1\n",
    "    z=[]\n",
    "    for last in weight[-1]:\n",
    "        z.append(np.array(last*lists[1][-1]))\n",
    "#     print(z)\n",
    "    for i in range(len(lists[-1])):\n",
    "#         print(z[i])\n",
    "        lists[-1][i] = sigmoid(sum(z[i]))\n",
    "print(lists)\n",
    "    \n",
    "#     lists[1][0] = \n",
    "    \n",
    "#     lists = graph(data,number_of_hidden_layer,number_of_neurons,shape)\n",
    "    \n",
    "    \n",
    "#     print(lists[0].shape[0],lists[1][0].shape[0])"
   ]
  },
  {
   "cell_type": "code",
   "execution_count": 17,
   "metadata": {},
   "outputs": [
    {
     "name": "stdout",
     "output_type": "stream",
     "text": [
      "[array([0., 0., 0.]), array([0., 0., 0.])]\n"
     ]
    }
   ],
   "source": [
    "forward_propagation()"
   ]
  },
  {
   "cell_type": "code",
   "execution_count": 18,
   "metadata": {},
   "outputs": [
    {
     "data": {
      "text/plain": [
       "array([array([1, 2, 4]),\n",
       "       list([array([0.5, 0.5, 0.5]), array([0.5, 0.5])]),\n",
       "       array([0.5, 0.5, 0.5, 0.5, 0.5, 0.5, 0.5, 0.5, 0.5, 0.5])],\n",
       "      dtype=object)"
      ]
     },
     "execution_count": 18,
     "metadata": {},
     "output_type": "execute_result"
    }
   ],
   "source": [
    "lists"
   ]
  },
  {
   "cell_type": "code",
   "execution_count": 126,
   "metadata": {},
   "outputs": [],
   "source": [
    "d=[1,3,4]"
   ]
  },
  {
   "cell_type": "code",
   "execution_count": 9,
   "metadata": {},
   "outputs": [
    {
     "data": {
      "text/plain": [
       "[array([[0., 0., 0.],\n",
       "        [0., 0., 0.],\n",
       "        [0., 0., 0.]]), array([[0., 0., 0.],\n",
       "        [0., 0., 0.]]), array([[0., 0.],\n",
       "        [0., 0.],\n",
       "        [0., 0.],\n",
       "        [0., 0.],\n",
       "        [0., 0.],\n",
       "        [0., 0.],\n",
       "        [0., 0.],\n",
       "        [0., 0.],\n",
       "        [0., 0.],\n",
       "        [0., 0.]])]"
      ]
     },
     "execution_count": 9,
     "metadata": {},
     "output_type": "execute_result"
    }
   ],
   "source": [
    "weight"
   ]
  },
  {
   "cell_type": "code",
   "execution_count": 50,
   "metadata": {},
   "outputs": [
    {
     "data": {
      "text/plain": [
       "array([0.5, 0.5, 0.5])"
      ]
     },
     "execution_count": 50,
     "metadata": {},
     "output_type": "execute_result"
    }
   ],
   "source": [
    "lists[1][0]"
   ]
  },
  {
   "cell_type": "code",
   "execution_count": 22,
   "metadata": {},
   "outputs": [
    {
     "data": {
      "text/plain": [
       "array([array([1, 2, 4]),\n",
       "       list([array([0.5, 0.5, 0.5]), array([0.5, 0.5])]),\n",
       "       array([0., 0., 0., 0., 0., 0., 0., 0., 0., 0.])], dtype=object)"
      ]
     },
     "execution_count": 22,
     "metadata": {},
     "output_type": "execute_result"
    }
   ],
   "source": [
    "lists"
   ]
  },
  {
   "cell_type": "code",
   "execution_count": 23,
   "metadata": {},
   "outputs": [
    {
     "data": {
      "text/plain": [
       "array([0., 0., 0., 0., 0., 0., 0., 0., 0., 0.])"
      ]
     },
     "execution_count": 23,
     "metadata": {},
     "output_type": "execute_result"
    }
   ],
   "source": [
    "lists[-1]"
   ]
  },
  {
   "cell_type": "code",
   "execution_count": 36,
   "metadata": {},
   "outputs": [
    {
     "name": "stdout",
     "output_type": "stream",
     "text": [
      "10\n"
     ]
    }
   ],
   "source": [
    "print(len(lists[-1]))"
   ]
  },
  {
   "cell_type": "code",
   "execution_count": 28,
   "metadata": {},
   "outputs": [],
   "source": [
    "d = np.array([1,2,3]); l = np.array([1,3,4])"
   ]
  },
  {
   "cell_type": "code",
   "execution_count": 29,
   "metadata": {},
   "outputs": [],
   "source": [
    "k = d*l"
   ]
  },
  {
   "cell_type": "code",
   "execution_count": 30,
   "metadata": {},
   "outputs": [
    {
     "data": {
      "text/plain": [
       "array([ 1,  6, 12])"
      ]
     },
     "execution_count": 30,
     "metadata": {},
     "output_type": "execute_result"
    }
   ],
   "source": [
    "#cost function\n",
    "def cost_function():\n",
    "    return (1/2)*()"
   ]
  },
  {
   "cell_type": "code",
   "execution_count": null,
   "metadata": {},
   "outputs": [],
   "source": [
    "def backpropagation():\n",
    "    "
   ]
  }
 ],
 "metadata": {
  "kernelspec": {
   "display_name": "Python 3",
   "language": "python",
   "name": "python3"
  },
  "language_info": {
   "codemirror_mode": {
    "name": "ipython",
    "version": 3
   },
   "file_extension": ".py",
   "mimetype": "text/x-python",
   "name": "python",
   "nbconvert_exporter": "python",
   "pygments_lexer": "ipython3",
   "version": "3.6.4"
  }
 },
 "nbformat": 4,
 "nbformat_minor": 2
}
